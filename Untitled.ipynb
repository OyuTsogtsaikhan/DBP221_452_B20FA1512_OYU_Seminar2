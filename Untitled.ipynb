{
 "cells": [
  {
   "cell_type": "code",
   "execution_count": 1,
   "id": "3e68c793",
   "metadata": {},
   "outputs": [
    {
     "name": "stdout",
     "output_type": "stream",
     "text": [
      "Палиндром мөн эсэхийг шалгах үг:malayalam\n",
      "Тийм\n"
     ]
    }
   ],
   "source": [
    "#1\n",
    "def isPalindrome(s):\n",
    "    return s == s[::-1]\n",
    "s= str(input(\"Палиндром мөн эсэхийг шалгах үг:\"))\n",
    "ans=isPalindrome(s)\n",
    "if ans:\n",
    "    print(\"Тийм\")\n",
    "else:\n",
    "    print(\"Үгүй\")\n"
   ]
  },
  {
   "cell_type": "code",
   "execution_count": 2,
   "id": "5ce39dea",
   "metadata": {},
   "outputs": [
    {
     "name": "stdout",
     "output_type": "stream",
     "text": [
      "Том үсгийн тоо: 8\n",
      "Жижиг үсгийн тоо: 10\n"
     ]
    }
   ],
   "source": [
    "#2\n",
    "def string_test(s):\n",
    "    d= {\"UPPER_CASE\":0, \"LOWER_CASE\":0}\n",
    "    for c in s:\n",
    "        if c.isupper():\n",
    "            d[\"UPPER_CASE\"]+=1\n",
    "        elif c.islower():\n",
    "            d[\"LOWER_CASE\"]+=1\n",
    "        else:\n",
    "            pass\n",
    "    print(\"Том үсгийн тоо:\", d[\"UPPER_CASE\"])\n",
    "    print(\"Жижиг үсгийн тоо:\", d[\"LOWER_CASE\"])\n",
    "string_test('өГӨГдлИйн ШинжилГЭЭ')\n"
   ]
  },
  {
   "cell_type": "code",
   "execution_count": 3,
   "id": "32ae36e5",
   "metadata": {},
   "outputs": [
    {
     "name": "stdout",
     "output_type": "stream",
     "text": [
      "300\n"
     ]
    }
   ],
   "source": [
    "#3\n",
    "a_list = [2,3,10,5]\n",
    "product=1\n",
    "for item in a_list:\n",
    "    product= product*item\n",
    "print(product)\n"
   ]
  },
  {
   "cell_type": "code",
   "execution_count": 5,
   "id": "26ba63a2",
   "metadata": {},
   "outputs": [
    {
     "name": "stdout",
     "output_type": "stream",
     "text": [
      "Тоогоо оруулна уу:4\n",
      "4 -н бактрал 24\n"
     ]
    }
   ],
   "source": [
    "#4\n",
    "num = int(input(\"Тоогоо оруулна уу:\"))    \n",
    "factorial = 1    \n",
    "if num < 0:    \n",
    "   print(\" Сөрөг утганд бактрал авдаггүй.\")    \n",
    "elif num == 0:    \n",
    "   print(\"0-н бактрал 1\")    \n",
    "else:    \n",
    "   for i in range(1,num + 1):    \n",
    "       factorial = factorial*i    \n",
    "   print(num,\"-н бактрал\",factorial)\n"
   ]
  },
  {
   "cell_type": "code",
   "execution_count": 6,
   "id": "7304eaa6",
   "metadata": {},
   "outputs": [
    {
     "name": "stdout",
     "output_type": "stream",
     "text": [
      "[-1, -4, -5, -6, 8]\n"
     ]
    }
   ],
   "source": [
    "#5\n",
    "mylist=[1,4,5,6,-8]\n",
    "neglist=[-x for x in mylist]\n",
    "print(neglist)\n"
   ]
  },
  {
   "cell_type": "code",
   "execution_count": 7,
   "id": "055bca76",
   "metadata": {},
   "outputs": [
    {
     "name": "stdout",
     "output_type": "stream",
     "text": [
      "Нийлбэр: 21\n"
     ]
    }
   ],
   "source": [
    "#6\n",
    "list1 = [11,7,3]\n",
    "total = sum(list1)\n",
    "print(\"Нийлбэр:\", total)\n",
    "\n"
   ]
  },
  {
   "cell_type": "code",
   "execution_count": 8,
   "id": "275aaf26",
   "metadata": {},
   "outputs": [
    {
     "name": "stdout",
     "output_type": "stream",
     "text": [
      "['Ганга', 'Навчаа', 'Гантулга']\n"
     ]
    }
   ],
   "source": [
    "#7\n",
    "ner=[\"Гантулга\",\"Ганга\",\"Навчаа\",\"Навчаа\",\"Ганга\"]\n",
    "finalners= list(set(ner))\n",
    "print(finalners)\n"
   ]
  },
  {
   "cell_type": "code",
   "execution_count": null,
   "id": "d8526f9e",
   "metadata": {},
   "outputs": [],
   "source": []
  }
 ],
 "metadata": {
  "kernelspec": {
   "display_name": "Python 3 (ipykernel)",
   "language": "python",
   "name": "python3"
  },
  "language_info": {
   "codemirror_mode": {
    "name": "ipython",
    "version": 3
   },
   "file_extension": ".py",
   "mimetype": "text/x-python",
   "name": "python",
   "nbconvert_exporter": "python",
   "pygments_lexer": "ipython3",
   "version": "3.9.7"
  }
 },
 "nbformat": 4,
 "nbformat_minor": 5
}
